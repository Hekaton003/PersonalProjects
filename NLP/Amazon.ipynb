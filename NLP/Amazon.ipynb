{
 "cells": [
  {
   "metadata": {},
   "cell_type": "markdown",
   "source": [
    "# Dataset Card for Amazon Review Polarity\n",
    "\n",
    "The Amazon reviews dataset consists of reviews from amazon. The data span a period of 18 years, including ~35 million reviews up to March 2013. Reviews include product and user information, ratings, and a plaintext review.\n",
    "\n",
    "Data Fields\n",
    "'title': a string containing the title of the review - escaped using double quotes (\") and any internal double quote is escaped by 2 double quotes (\"\"). New lines are escaped by a backslash followed with an \"n\" character, that is \"\\n\".\n",
    "\n",
    "'content': a string containing the body of the document - escaped using double quotes (\") and any internal double quote is escaped by 2 double quotes (\"\"). \n",
    "New lines are escaped by a backslash followed with an \"n\" character, that is \"\\n\".\n",
    "\n",
    "'label': either 1 (positive) or 0 (negative) rating."
   ],
   "id": "5a29dd65436319ca"
  },
  {
   "cell_type": "code",
   "id": "initial_id",
   "metadata": {
    "collapsed": true,
    "ExecuteTime": {
     "end_time": "2025-04-04T21:42:37.443072Z",
     "start_time": "2025-04-04T21:40:04.853169Z"
    }
   },
   "source": [
    "import dask.dataframe as dd\n",
    "from datasets import Dataset\n",
    "\n",
    "# Load only the first 12,000 rows without loading the full dataset\n",
    "ddf = dd.read_parquet(\"hf://datasets/fancyzhx/amazon_polarity/amazon_polarity/train-*.parquet\")\n",
    "small_df = ddf.head(12000, npartitions=-1)  # Processes partitions in parallel\n",
    "\n",
    "# Convert to Hugging Face Dataset\n",
    "dataset = Dataset.from_pandas(small_df)\n",
    "print(dataset)"
   ],
   "outputs": [
    {
     "name": "stdout",
     "output_type": "stream",
     "text": [
      "Dataset({\n",
      "    features: ['label', 'title', 'content', '__index_level_0__'],\n",
      "    num_rows: 12000\n",
      "})\n"
     ]
    }
   ],
   "execution_count": 6
  },
  {
   "metadata": {
    "ExecuteTime": {
     "end_time": "2025-04-04T21:43:55.969487Z",
     "start_time": "2025-04-04T21:43:44.654937Z"
    }
   },
   "cell_type": "code",
   "source": [
    "import pandas as pd\n",
    "import numpy as np\n",
    "from transformers import AutoTokenizer, AutoModelForSequenceClassification, TrainingArguments, Trainer\n",
    "from sklearn.metrics import classification_report,f1_score"
   ],
   "id": "70822036cdf55a7c",
   "outputs": [
    {
     "name": "stdout",
     "output_type": "stream",
     "text": [
      "WARNING:tensorflow:From C:\\Users\\Jovan\\AppData\\Local\\Programs\\Python\\Python311\\Lib\\site-packages\\tf_keras\\src\\losses.py:2976: The name tf.losses.sparse_softmax_cross_entropy is deprecated. Please use tf.compat.v1.losses.sparse_softmax_cross_entropy instead.\n",
      "\n"
     ]
    }
   ],
   "execution_count": 7
  },
  {
   "metadata": {
    "ExecuteTime": {
     "end_time": "2025-04-04T21:44:49.249405Z",
     "start_time": "2025-04-04T21:44:49.231876Z"
    }
   },
   "cell_type": "code",
   "source": [
    "df = Dataset.to_pandas(dataset)\n",
    "df"
   ],
   "id": "d6cadcc152057c4f",
   "outputs": [
    {
     "data": {
      "text/plain": [
       "       label                                              title  \\\n",
       "0          1                     Stuning even for the non-gamer   \n",
       "1          1              The best soundtrack ever to anything.   \n",
       "2          1                                           Amazing!   \n",
       "3          1                               Excellent Soundtrack   \n",
       "4          1  Remember, Pull Your Jaw Off The Floor After He...   \n",
       "...      ...                                                ...   \n",
       "11995      1                       Quick Success to Stain Glass   \n",
       "11996      1                   A Must-Read for SoCal dog owners   \n",
       "11997      1                         Excellent Follow-Up Score.   \n",
       "11998      1                Not a Disney soundtrack masterpiece   \n",
       "11999      0                                not for the kids...   \n",
       "\n",
       "                                                 content  __index_level_0__  \n",
       "0      This sound track was beautiful! It paints the ...                  0  \n",
       "1      I'm reading a lot of reviews saying that this ...                  1  \n",
       "2      This soundtrack is my favorite music of all ti...                  2  \n",
       "3      I truly like this soundtrack and I enjoy video...                  3  \n",
       "4      If you've played the game, you know how divine...                  4  \n",
       "...                                                  ...                ...  \n",
       "11995  I am a beginner and I'm teaching myself. This ...              11995  \n",
       "11996  Look, you got a dog or two? Living or travelin...              11996  \n",
       "11997  This is an excellent follow-up score to TOY ST...              11997  \n",
       "11998  Even if the 'Toy Story 2' soundtrack is'nt so ...              11998  \n",
       "11999  I was excited with the release of the new movi...              11999  \n",
       "\n",
       "[12000 rows x 4 columns]"
      ],
      "text/html": [
       "<div>\n",
       "<style scoped>\n",
       "    .dataframe tbody tr th:only-of-type {\n",
       "        vertical-align: middle;\n",
       "    }\n",
       "\n",
       "    .dataframe tbody tr th {\n",
       "        vertical-align: top;\n",
       "    }\n",
       "\n",
       "    .dataframe thead th {\n",
       "        text-align: right;\n",
       "    }\n",
       "</style>\n",
       "<table border=\"1\" class=\"dataframe\">\n",
       "  <thead>\n",
       "    <tr style=\"text-align: right;\">\n",
       "      <th></th>\n",
       "      <th>label</th>\n",
       "      <th>title</th>\n",
       "      <th>content</th>\n",
       "      <th>__index_level_0__</th>\n",
       "    </tr>\n",
       "  </thead>\n",
       "  <tbody>\n",
       "    <tr>\n",
       "      <th>0</th>\n",
       "      <td>1</td>\n",
       "      <td>Stuning even for the non-gamer</td>\n",
       "      <td>This sound track was beautiful! It paints the ...</td>\n",
       "      <td>0</td>\n",
       "    </tr>\n",
       "    <tr>\n",
       "      <th>1</th>\n",
       "      <td>1</td>\n",
       "      <td>The best soundtrack ever to anything.</td>\n",
       "      <td>I'm reading a lot of reviews saying that this ...</td>\n",
       "      <td>1</td>\n",
       "    </tr>\n",
       "    <tr>\n",
       "      <th>2</th>\n",
       "      <td>1</td>\n",
       "      <td>Amazing!</td>\n",
       "      <td>This soundtrack is my favorite music of all ti...</td>\n",
       "      <td>2</td>\n",
       "    </tr>\n",
       "    <tr>\n",
       "      <th>3</th>\n",
       "      <td>1</td>\n",
       "      <td>Excellent Soundtrack</td>\n",
       "      <td>I truly like this soundtrack and I enjoy video...</td>\n",
       "      <td>3</td>\n",
       "    </tr>\n",
       "    <tr>\n",
       "      <th>4</th>\n",
       "      <td>1</td>\n",
       "      <td>Remember, Pull Your Jaw Off The Floor After He...</td>\n",
       "      <td>If you've played the game, you know how divine...</td>\n",
       "      <td>4</td>\n",
       "    </tr>\n",
       "    <tr>\n",
       "      <th>...</th>\n",
       "      <td>...</td>\n",
       "      <td>...</td>\n",
       "      <td>...</td>\n",
       "      <td>...</td>\n",
       "    </tr>\n",
       "    <tr>\n",
       "      <th>11995</th>\n",
       "      <td>1</td>\n",
       "      <td>Quick Success to Stain Glass</td>\n",
       "      <td>I am a beginner and I'm teaching myself. This ...</td>\n",
       "      <td>11995</td>\n",
       "    </tr>\n",
       "    <tr>\n",
       "      <th>11996</th>\n",
       "      <td>1</td>\n",
       "      <td>A Must-Read for SoCal dog owners</td>\n",
       "      <td>Look, you got a dog or two? Living or travelin...</td>\n",
       "      <td>11996</td>\n",
       "    </tr>\n",
       "    <tr>\n",
       "      <th>11997</th>\n",
       "      <td>1</td>\n",
       "      <td>Excellent Follow-Up Score.</td>\n",
       "      <td>This is an excellent follow-up score to TOY ST...</td>\n",
       "      <td>11997</td>\n",
       "    </tr>\n",
       "    <tr>\n",
       "      <th>11998</th>\n",
       "      <td>1</td>\n",
       "      <td>Not a Disney soundtrack masterpiece</td>\n",
       "      <td>Even if the 'Toy Story 2' soundtrack is'nt so ...</td>\n",
       "      <td>11998</td>\n",
       "    </tr>\n",
       "    <tr>\n",
       "      <th>11999</th>\n",
       "      <td>0</td>\n",
       "      <td>not for the kids...</td>\n",
       "      <td>I was excited with the release of the new movi...</td>\n",
       "      <td>11999</td>\n",
       "    </tr>\n",
       "  </tbody>\n",
       "</table>\n",
       "<p>12000 rows × 4 columns</p>\n",
       "</div>"
      ]
     },
     "execution_count": 8,
     "metadata": {},
     "output_type": "execute_result"
    }
   ],
   "execution_count": 8
  },
  {
   "metadata": {
    "ExecuteTime": {
     "end_time": "2025-04-04T21:45:25.812853Z",
     "start_time": "2025-04-04T21:45:25.805662Z"
    }
   },
   "cell_type": "code",
   "source": [
    "df= df.drop(columns='__index_level_0__',axis=1)\n",
    "df"
   ],
   "id": "c95ba12e1e501181",
   "outputs": [
    {
     "data": {
      "text/plain": [
       "       label                                              title  \\\n",
       "0          1                     Stuning even for the non-gamer   \n",
       "1          1              The best soundtrack ever to anything.   \n",
       "2          1                                           Amazing!   \n",
       "3          1                               Excellent Soundtrack   \n",
       "4          1  Remember, Pull Your Jaw Off The Floor After He...   \n",
       "...      ...                                                ...   \n",
       "11995      1                       Quick Success to Stain Glass   \n",
       "11996      1                   A Must-Read for SoCal dog owners   \n",
       "11997      1                         Excellent Follow-Up Score.   \n",
       "11998      1                Not a Disney soundtrack masterpiece   \n",
       "11999      0                                not for the kids...   \n",
       "\n",
       "                                                 content  \n",
       "0      This sound track was beautiful! It paints the ...  \n",
       "1      I'm reading a lot of reviews saying that this ...  \n",
       "2      This soundtrack is my favorite music of all ti...  \n",
       "3      I truly like this soundtrack and I enjoy video...  \n",
       "4      If you've played the game, you know how divine...  \n",
       "...                                                  ...  \n",
       "11995  I am a beginner and I'm teaching myself. This ...  \n",
       "11996  Look, you got a dog or two? Living or travelin...  \n",
       "11997  This is an excellent follow-up score to TOY ST...  \n",
       "11998  Even if the 'Toy Story 2' soundtrack is'nt so ...  \n",
       "11999  I was excited with the release of the new movi...  \n",
       "\n",
       "[12000 rows x 3 columns]"
      ],
      "text/html": [
       "<div>\n",
       "<style scoped>\n",
       "    .dataframe tbody tr th:only-of-type {\n",
       "        vertical-align: middle;\n",
       "    }\n",
       "\n",
       "    .dataframe tbody tr th {\n",
       "        vertical-align: top;\n",
       "    }\n",
       "\n",
       "    .dataframe thead th {\n",
       "        text-align: right;\n",
       "    }\n",
       "</style>\n",
       "<table border=\"1\" class=\"dataframe\">\n",
       "  <thead>\n",
       "    <tr style=\"text-align: right;\">\n",
       "      <th></th>\n",
       "      <th>label</th>\n",
       "      <th>title</th>\n",
       "      <th>content</th>\n",
       "    </tr>\n",
       "  </thead>\n",
       "  <tbody>\n",
       "    <tr>\n",
       "      <th>0</th>\n",
       "      <td>1</td>\n",
       "      <td>Stuning even for the non-gamer</td>\n",
       "      <td>This sound track was beautiful! It paints the ...</td>\n",
       "    </tr>\n",
       "    <tr>\n",
       "      <th>1</th>\n",
       "      <td>1</td>\n",
       "      <td>The best soundtrack ever to anything.</td>\n",
       "      <td>I'm reading a lot of reviews saying that this ...</td>\n",
       "    </tr>\n",
       "    <tr>\n",
       "      <th>2</th>\n",
       "      <td>1</td>\n",
       "      <td>Amazing!</td>\n",
       "      <td>This soundtrack is my favorite music of all ti...</td>\n",
       "    </tr>\n",
       "    <tr>\n",
       "      <th>3</th>\n",
       "      <td>1</td>\n",
       "      <td>Excellent Soundtrack</td>\n",
       "      <td>I truly like this soundtrack and I enjoy video...</td>\n",
       "    </tr>\n",
       "    <tr>\n",
       "      <th>4</th>\n",
       "      <td>1</td>\n",
       "      <td>Remember, Pull Your Jaw Off The Floor After He...</td>\n",
       "      <td>If you've played the game, you know how divine...</td>\n",
       "    </tr>\n",
       "    <tr>\n",
       "      <th>...</th>\n",
       "      <td>...</td>\n",
       "      <td>...</td>\n",
       "      <td>...</td>\n",
       "    </tr>\n",
       "    <tr>\n",
       "      <th>11995</th>\n",
       "      <td>1</td>\n",
       "      <td>Quick Success to Stain Glass</td>\n",
       "      <td>I am a beginner and I'm teaching myself. This ...</td>\n",
       "    </tr>\n",
       "    <tr>\n",
       "      <th>11996</th>\n",
       "      <td>1</td>\n",
       "      <td>A Must-Read for SoCal dog owners</td>\n",
       "      <td>Look, you got a dog or two? Living or travelin...</td>\n",
       "    </tr>\n",
       "    <tr>\n",
       "      <th>11997</th>\n",
       "      <td>1</td>\n",
       "      <td>Excellent Follow-Up Score.</td>\n",
       "      <td>This is an excellent follow-up score to TOY ST...</td>\n",
       "    </tr>\n",
       "    <tr>\n",
       "      <th>11998</th>\n",
       "      <td>1</td>\n",
       "      <td>Not a Disney soundtrack masterpiece</td>\n",
       "      <td>Even if the 'Toy Story 2' soundtrack is'nt so ...</td>\n",
       "    </tr>\n",
       "    <tr>\n",
       "      <th>11999</th>\n",
       "      <td>0</td>\n",
       "      <td>not for the kids...</td>\n",
       "      <td>I was excited with the release of the new movi...</td>\n",
       "    </tr>\n",
       "  </tbody>\n",
       "</table>\n",
       "<p>12000 rows × 3 columns</p>\n",
       "</div>"
      ]
     },
     "execution_count": 9,
     "metadata": {},
     "output_type": "execute_result"
    }
   ],
   "execution_count": 9
  },
  {
   "metadata": {
    "ExecuteTime": {
     "end_time": "2025-04-04T21:50:04.450756Z",
     "start_time": "2025-04-04T21:50:04.396664Z"
    }
   },
   "cell_type": "code",
   "source": [
    "dataset = Dataset.from_pandas(df)\n",
    "training_df,test_df = dataset.train_test_split(test_size=0.2).values()\n",
    "training_df"
   ],
   "id": "7a548c5099470a98",
   "outputs": [
    {
     "data": {
      "text/plain": [
       "Dataset({\n",
       "    features: ['label', 'title', 'content'],\n",
       "    num_rows: 9600\n",
       "})"
      ]
     },
     "execution_count": 13,
     "metadata": {},
     "output_type": "execute_result"
    }
   ],
   "execution_count": 13
  },
  {
   "metadata": {
    "ExecuteTime": {
     "end_time": "2025-04-04T21:50:16.066106Z",
     "start_time": "2025-04-04T21:50:16.062146Z"
    }
   },
   "cell_type": "code",
   "source": "test_df",
   "id": "a108efd5b0982edd",
   "outputs": [
    {
     "data": {
      "text/plain": [
       "Dataset({\n",
       "    features: ['label', 'title', 'content'],\n",
       "    num_rows: 2400\n",
       "})"
      ]
     },
     "execution_count": 14,
     "metadata": {},
     "output_type": "execute_result"
    }
   ],
   "execution_count": 14
  },
  {
   "metadata": {
    "ExecuteTime": {
     "end_time": "2025-04-04T21:51:01.158446Z",
     "start_time": "2025-04-04T21:51:01.147991Z"
    }
   },
   "cell_type": "code",
   "source": [
    "train_df,validation_df = training_df.train_test_split(test_size=0.1).values()\n",
    "validation_df"
   ],
   "id": "cac5f5de6ab589a9",
   "outputs": [
    {
     "data": {
      "text/plain": [
       "Dataset({\n",
       "    features: ['label', 'title', 'content'],\n",
       "    num_rows: 960\n",
       "})"
      ]
     },
     "execution_count": 15,
     "metadata": {},
     "output_type": "execute_result"
    }
   ],
   "execution_count": 15
  },
  {
   "metadata": {
    "ExecuteTime": {
     "end_time": "2025-04-04T21:53:54.126417Z",
     "start_time": "2025-04-04T21:53:54.123330Z"
    }
   },
   "cell_type": "code",
   "source": [
    "from datasets import DatasetDict\n",
    "\n",
    "dataset = DatasetDict({\n",
    "    \"train\": training_df,\n",
    "    \"validation\": validation_df,\n",
    "    \"test\": test_df\n",
    "})"
   ],
   "id": "83709db778fe63b8",
   "outputs": [],
   "execution_count": 18
  },
  {
   "metadata": {
    "ExecuteTime": {
     "end_time": "2025-04-04T22:07:20.374633Z",
     "start_time": "2025-04-04T22:07:19.025242Z"
    }
   },
   "cell_type": "code",
   "source": [
    "tokenizer = AutoTokenizer.from_pretrained(\"google-bert/bert-base-cased\")\n",
    "\n",
    "# Define tokenization function\n",
    "def tokenize_function(examples):\n",
    "    # Combine 'title' and 'content' (adjust if needed)\n",
    "    texts = [f\"{title} {content}\" for title, content in zip(examples[\"title\"], examples[\"content\"])]\n",
    "    \n",
    "    # Tokenize\n",
    "    return tokenizer(\n",
    "        texts,\n",
    "        truncation=True,\n",
    "        padding=\"max_length\",  # or \"longest\" for dynamic padding\n",
    "        max_length=50,        # Your chosen max length\n",
    "        return_tensors=None   # Returns lists instead of tensors\n",
    "    )\n",
    "\n",
    "# Apply tokenization (batched for efficiency)\n",
    "tokenized_dataset = dataset.map(tokenize_function, batched=True)"
   ],
   "id": "45583e053e1b1ac4",
   "outputs": [
    {
     "data": {
      "text/plain": [
       "Map:   0%|          | 0/9600 [00:00<?, ? examples/s]"
      ],
      "application/vnd.jupyter.widget-view+json": {
       "version_major": 2,
       "version_minor": 0,
       "model_id": "17eb27054edf449fbf7d3363ea3ed7c4"
      }
     },
     "metadata": {},
     "output_type": "display_data"
    },
    {
     "data": {
      "text/plain": [
       "Map:   0%|          | 0/960 [00:00<?, ? examples/s]"
      ],
      "application/vnd.jupyter.widget-view+json": {
       "version_major": 2,
       "version_minor": 0,
       "model_id": "9544bd3f0c5b4ca5b5c712c594bc6613"
      }
     },
     "metadata": {},
     "output_type": "display_data"
    },
    {
     "data": {
      "text/plain": [
       "Map:   0%|          | 0/2400 [00:00<?, ? examples/s]"
      ],
      "application/vnd.jupyter.widget-view+json": {
       "version_major": 2,
       "version_minor": 0,
       "model_id": "8029b179dd654c1f893b3bd1b2992da5"
      }
     },
     "metadata": {},
     "output_type": "display_data"
    }
   ],
   "execution_count": 48
  },
  {
   "metadata": {
    "ExecuteTime": {
     "end_time": "2025-04-04T22:07:22.146540Z",
     "start_time": "2025-04-04T22:07:21.902956Z"
    }
   },
   "cell_type": "code",
   "source": "model = AutoModelForSequenceClassification.from_pretrained(\"google-bert/bert-base-cased\",num_labels=2)",
   "id": "4e6eeab52e10818",
   "outputs": [
    {
     "name": "stderr",
     "output_type": "stream",
     "text": [
      "Some weights of BertForSequenceClassification were not initialized from the model checkpoint at google-bert/bert-base-cased and are newly initialized: ['classifier.bias', 'classifier.weight']\n",
      "You should probably TRAIN this model on a down-stream task to be able to use it for predictions and inference.\n"
     ]
    }
   ],
   "execution_count": 49
  },
  {
   "metadata": {
    "ExecuteTime": {
     "end_time": "2025-04-04T22:07:24.248552Z",
     "start_time": "2025-04-04T22:07:24.227678Z"
    }
   },
   "cell_type": "code",
   "source": "tokenized_dataset = tokenized_dataset.rename_column(\"label\", \"labels\")",
   "id": "638cd7df78fa39b2",
   "outputs": [],
   "execution_count": 50
  },
  {
   "metadata": {
    "ExecuteTime": {
     "end_time": "2025-04-04T22:07:26.578433Z",
     "start_time": "2025-04-04T22:07:26.571498Z"
    }
   },
   "cell_type": "code",
   "source": [
    "columns_to_remove = ['title', 'content']\n",
    "tokenized_dataset = tokenized_dataset.remove_columns(columns_to_remove)\n",
    "\n",
    "# Set to PyTorch format\n",
    "tokenized_dataset.set_format('torch', columns=['input_ids', 'attention_mask', 'token_type_ids', 'labels'])"
   ],
   "id": "df8ca0823aa0467f",
   "outputs": [],
   "execution_count": 51
  },
  {
   "metadata": {
    "ExecuteTime": {
     "end_time": "2025-04-04T22:07:37.862595Z",
     "start_time": "2025-04-04T22:07:37.695320Z"
    }
   },
   "cell_type": "code",
   "source": [
    "sample_batch = {\n",
    "    'input_ids': tokenized_dataset['train']['input_ids'][:2],\n",
    "    'attention_mask': tokenized_dataset['train']['attention_mask'][:2],\n",
    "    'token_type_ids': tokenized_dataset['train']['token_type_ids'][:2],\n",
    "    'labels': tokenized_dataset['train']['labels'][:2]\n",
    "}\n",
    "\n",
    "# Should run without errors\n",
    "outputs = model(**sample_batch)\n",
    "print(outputs.loss) "
   ],
   "id": "f501c16997cf169b",
   "outputs": [
    {
     "name": "stdout",
     "output_type": "stream",
     "text": [
      "tensor(1.0153, grad_fn=<NllLossBackward0>)\n"
     ]
    }
   ],
   "execution_count": 53
  },
  {
   "metadata": {
    "ExecuteTime": {
     "end_time": "2025-04-04T22:07:47.090402Z",
     "start_time": "2025-04-04T22:07:47.083719Z"
    }
   },
   "cell_type": "code",
   "source": [
    "args = TrainingArguments(\n",
    "    output_dir=\"amazon\",\n",
    "    eval_strategy= \"epoch\",\n",
    "    num_train_epochs=2,\n",
    "    per_device_train_batch_size=8,\n",
    "    per_device_eval_batch_size=8,\n",
    "    learning_rate=2e-4,\n",
    "    metric_for_best_model=\"f1\"\n",
    ")"
   ],
   "id": "9ff64c00fe99804f",
   "outputs": [],
   "execution_count": 54
  },
  {
   "metadata": {
    "ExecuteTime": {
     "end_time": "2025-04-04T22:07:48.805141Z",
     "start_time": "2025-04-04T22:07:48.799831Z"
    }
   },
   "cell_type": "code",
   "source": [
    "def compute_metrics(eval_pred):\n",
    "    logits,labels = eval_pred\n",
    "    pred = np.argmax(logits,axis=-1)\n",
    "    f1 = f1_score(labels, pred, average='weighted')\n",
    "    return {\"f1\": f1}"
   ],
   "id": "c38531bc8f9844a2",
   "outputs": [],
   "execution_count": 55
  },
  {
   "metadata": {
    "ExecuteTime": {
     "end_time": "2025-04-04T22:09:17.011635Z",
     "start_time": "2025-04-04T22:09:17.001881Z"
    }
   },
   "cell_type": "code",
   "source": [
    "trainer = Trainer(\n",
    "    model=model,\n",
    "    args=args,\n",
    "    compute_metrics=compute_metrics,\n",
    "    train_dataset=tokenized_dataset['train'],\n",
    "    eval_dataset=tokenized_dataset['validation']\n",
    ")"
   ],
   "id": "1a9e8f3e6d90e93a",
   "outputs": [],
   "execution_count": 60
  },
  {
   "metadata": {
    "ExecuteTime": {
     "end_time": "2025-04-04T22:09:18.866531Z",
     "start_time": "2025-04-04T22:09:18.863923Z"
    }
   },
   "cell_type": "code",
   "source": "print(tokenized_dataset.column_names)",
   "id": "748ece52cfe52b8a",
   "outputs": [
    {
     "name": "stdout",
     "output_type": "stream",
     "text": [
      "{'train': ['labels', 'input_ids', 'token_type_ids', 'attention_mask'], 'validation': ['labels', 'input_ids', 'token_type_ids', 'attention_mask'], 'test': ['labels', 'input_ids', 'token_type_ids', 'attention_mask']}\n"
     ]
    }
   ],
   "execution_count": 61
  },
  {
   "metadata": {
    "ExecuteTime": {
     "end_time": "2025-04-04T22:09:20.052745Z",
     "start_time": "2025-04-04T22:09:20.047447Z"
    }
   },
   "cell_type": "code",
   "source": "print(tokenized_dataset['train'][0])",
   "id": "4e5436f14583b3f9",
   "outputs": [
    {
     "name": "stdout",
     "output_type": "stream",
     "text": [
      "{'labels': tensor(0), 'input_ids': tensor([  101,  1141,  1104,  1103,  4997,  1188,  1520,  1108,  1141,  1104,\n",
      "         1103,  4997,   146,  1138,  1518,  2373,   119,   146,  1354,  1122,\n",
      "         1108,  1280,  1106,  1129, 21964,  1113,  1103,  1297,  1104, 15518,\n",
      "         4446,  1121,  1109,  3394,  8430,  1642,   119,  3743,   117,  1122,\n",
      "         1108,   187,  3984, 11273,  1183,   117,  1105,  5733, 12533,   102]), 'token_type_ids': tensor([0, 0, 0, 0, 0, 0, 0, 0, 0, 0, 0, 0, 0, 0, 0, 0, 0, 0, 0, 0, 0, 0, 0, 0,\n",
      "        0, 0, 0, 0, 0, 0, 0, 0, 0, 0, 0, 0, 0, 0, 0, 0, 0, 0, 0, 0, 0, 0, 0, 0,\n",
      "        0, 0]), 'attention_mask': tensor([1, 1, 1, 1, 1, 1, 1, 1, 1, 1, 1, 1, 1, 1, 1, 1, 1, 1, 1, 1, 1, 1, 1, 1,\n",
      "        1, 1, 1, 1, 1, 1, 1, 1, 1, 1, 1, 1, 1, 1, 1, 1, 1, 1, 1, 1, 1, 1, 1, 1,\n",
      "        1, 1])}\n"
     ]
    }
   ],
   "execution_count": 62
  },
  {
   "metadata": {
    "ExecuteTime": {
     "end_time": "2025-04-04T22:53:07.427586Z",
     "start_time": "2025-04-04T22:09:22.088416Z"
    }
   },
   "cell_type": "code",
   "source": "trainer.train()",
   "id": "fe275d3e41a4805c",
   "outputs": [
    {
     "data": {
      "text/plain": [
       "<IPython.core.display.HTML object>"
      ],
      "text/html": [
       "\n",
       "    <div>\n",
       "      \n",
       "      <progress value='2400' max='2400' style='width:300px; height:20px; vertical-align: middle;'></progress>\n",
       "      [2400/2400 43:43, Epoch 2/2]\n",
       "    </div>\n",
       "    <table border=\"1\" class=\"dataframe\">\n",
       "  <thead>\n",
       " <tr style=\"text-align: left;\">\n",
       "      <th>Epoch</th>\n",
       "      <th>Training Loss</th>\n",
       "      <th>Validation Loss</th>\n",
       "      <th>F1</th>\n",
       "    </tr>\n",
       "  </thead>\n",
       "  <tbody>\n",
       "    <tr>\n",
       "      <td>1</td>\n",
       "      <td>0.705300</td>\n",
       "      <td>0.699884</td>\n",
       "      <td>0.353193</td>\n",
       "    </tr>\n",
       "    <tr>\n",
       "      <td>2</td>\n",
       "      <td>0.706200</td>\n",
       "      <td>0.692730</td>\n",
       "      <td>0.353193</td>\n",
       "    </tr>\n",
       "  </tbody>\n",
       "</table><p>"
      ]
     },
     "metadata": {},
     "output_type": "display_data"
    },
    {
     "data": {
      "text/plain": [
       "TrainOutput(global_step=2400, training_loss=0.708075091044108, metrics={'train_runtime': 2625.1044, 'train_samples_per_second': 7.314, 'train_steps_per_second': 0.914, 'total_flos': 493333228800000.0, 'train_loss': 0.708075091044108, 'epoch': 2.0})"
      ]
     },
     "execution_count": 63,
     "metadata": {},
     "output_type": "execute_result"
    }
   ],
   "execution_count": 63
  },
  {
   "metadata": {
    "ExecuteTime": {
     "end_time": "2025-04-04T22:59:37.932137Z",
     "start_time": "2025-04-04T22:58:30.423715Z"
    }
   },
   "cell_type": "code",
   "source": "preds = trainer.predict(tokenized_dataset['test'])",
   "id": "4ead88e89e2e98b8",
   "outputs": [
    {
     "data": {
      "text/plain": [
       "<IPython.core.display.HTML object>"
      ],
      "text/html": []
     },
     "metadata": {},
     "output_type": "display_data"
    }
   ],
   "execution_count": 73
  },
  {
   "metadata": {
    "ExecuteTime": {
     "end_time": "2025-04-04T22:59:39.994461Z",
     "start_time": "2025-04-04T22:59:39.980120Z"
    }
   },
   "cell_type": "code",
   "source": [
    "preds = np.argmax(preds.predictions, axis=-1)\n",
    "print(classification_report(tokenized_dataset['test']['labels'], preds,zero_division=0))"
   ],
   "id": "bcf090a51b8e0c7c",
   "outputs": [
    {
     "name": "stdout",
     "output_type": "stream",
     "text": [
      "              precision    recall  f1-score   support\n",
      "\n",
      "           0       0.51      1.00      0.68      1233\n",
      "           1       0.00      0.00      0.00      1167\n",
      "\n",
      "    accuracy                           0.51      2400\n",
      "   macro avg       0.26      0.50      0.34      2400\n",
      "weighted avg       0.26      0.51      0.35      2400\n",
      "\n"
     ]
    }
   ],
   "execution_count": 74
  }
 ],
 "metadata": {
  "kernelspec": {
   "display_name": "Python 3",
   "language": "python",
   "name": "python3"
  },
  "language_info": {
   "codemirror_mode": {
    "name": "ipython",
    "version": 2
   },
   "file_extension": ".py",
   "mimetype": "text/x-python",
   "name": "python",
   "nbconvert_exporter": "python",
   "pygments_lexer": "ipython2",
   "version": "2.7.6"
  }
 },
 "nbformat": 4,
 "nbformat_minor": 5
}

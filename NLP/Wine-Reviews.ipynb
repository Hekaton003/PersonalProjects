{
 "nbformat": 4,
 "nbformat_minor": 0,
 "metadata": {
  "colab": {
   "provenance": [],
   "gpuType": "T4"
  },
  "kernelspec": {
   "name": "python3",
   "display_name": "Python 3 (ipykernel)",
   "language": "python"
  },
  "language_info": {
   "name": "python"
  },
  "accelerator": "GPU"
 },
 "cells": [
  {
   "cell_type": "markdown",
   "source": "# The Wine Reviews Dataset",
   "metadata": {
    "id": "rODb9vHvIEbp"
   }
  },
  {
   "cell_type": "code",
   "source": [
    "import pandas as pd\n",
    "import numpy as np\n",
    "from sklearn.model_selection import train_test_split\n",
    "from datasets import load_dataset,Dataset\n",
    "from transformers import AutoTokenizer, AutoModelForSequenceClassification, TrainingArguments, Trainer\n",
    "from sklearn.metrics import classification_report,f1_score"
   ],
   "metadata": {
    "id": "J4wdSBmaUWtc",
    "ExecuteTime": {
     "end_time": "2025-04-04T20:50:17.015916Z",
     "start_time": "2025-04-04T20:50:02.687204Z"
    }
   },
   "outputs": [
    {
     "name": "stdout",
     "output_type": "stream",
     "text": [
      "WARNING:tensorflow:From C:\\Users\\Jovan\\AppData\\Local\\Programs\\Python\\Python311\\Lib\\site-packages\\tf_keras\\src\\losses.py:2976: The name tf.losses.sparse_softmax_cross_entropy is deprecated. Please use tf.compat.v1.losses.sparse_softmax_cross_entropy instead.\n",
      "\n"
     ]
    }
   ],
   "execution_count": 1
  },
  {
   "cell_type": "markdown",
   "source": [
    "## Introduction\n",
    "The rimary objective is to fine-tune a pre-trained LLM for binary classification on a dataset consisting of wine reviews. The dataset contains two attributes: **description** and **points**. The description is a brief text describing the wine and the points represent a quality metric ranging from 1 to 100. If some wine has at least 90 points it is considered **exceptional**. Your task involves predicting if some wine is exceptional based on its review."
   ],
   "metadata": {
    "id": "_rAh_91OIjeS"
   }
  },
  {
   "cell_type": "markdown",
   "source": "## ",
   "metadata": {
    "id": "zBYI-EypaWom"
   }
  },
  {
   "cell_type": "markdown",
   "source": [
    "## Exploring the Wine Reviews Dataset\n",
    "\n",
    "*Note: The dataset is complete, with no missing values in any of its entries.*"
   ],
   "metadata": {
    "id": "iAtPoYzAZo1v"
   }
  },
  {
   "cell_type": "code",
   "source": [
    "dataset = load_dataset(\"csv\",data_files=\"data/wine-reviews.csv\")\n",
    "dataset"
   ],
   "metadata": {
    "id": "KMOn4fgcZn8s",
    "ExecuteTime": {
     "end_time": "2025-04-04T20:50:32.971788Z",
     "start_time": "2025-04-04T20:50:32.353901Z"
    }
   },
   "outputs": [
    {
     "data": {
      "text/plain": [
       "Generating train split: 0 examples [00:00, ? examples/s]"
      ],
      "application/vnd.jupyter.widget-view+json": {
       "version_major": 2,
       "version_minor": 0,
       "model_id": "099f0df421594feaa031ec19679e3b86"
      }
     },
     "metadata": {},
     "output_type": "display_data"
    },
    {
     "data": {
      "text/plain": [
       "DatasetDict({\n",
       "    train: Dataset({\n",
       "        features: ['description', 'points'],\n",
       "        num_rows: 10000\n",
       "    })\n",
       "})"
      ]
     },
     "execution_count": 2,
     "metadata": {},
     "output_type": "execute_result"
    }
   ],
   "execution_count": 2
  },
  {
   "metadata": {
    "ExecuteTime": {
     "end_time": "2025-04-04T20:50:44.283628Z",
     "start_time": "2025-04-04T20:50:44.265562Z"
    }
   },
   "cell_type": "code",
   "source": [
    "df = dataset[\"train\"].to_pandas()\n",
    "df"
   ],
   "outputs": [
    {
     "data": {
      "text/plain": [
       "                                            description  points\n",
       "0     Translucent in color, silky in the mouth, this...      85\n",
       "1     On the palate, this wine is rich and complex, ...      92\n",
       "2     The producer blends 57% Chardonnay from the Ma...      92\n",
       "3     Pure Baga in all its glory, packed with dry an...      93\n",
       "4     Think of Subsídio as a contribution rather tha...      89\n",
       "...                                                 ...     ...\n",
       "9995  From the folks at Merryvale, this is a blend o...      92\n",
       "9996  An easy, versatile food wine or cocktail sippe...      84\n",
       "9997  Black-fruit aromas blend nicely into chocolate...      93\n",
       "9998  This combines 61% Cabernet Sauvignon, 14% Syra...      90\n",
       "9999  This is Ferreira's top vineyard that also prod...      94\n",
       "\n",
       "[10000 rows x 2 columns]"
      ],
      "text/html": [
       "<div>\n",
       "<style scoped>\n",
       "    .dataframe tbody tr th:only-of-type {\n",
       "        vertical-align: middle;\n",
       "    }\n",
       "\n",
       "    .dataframe tbody tr th {\n",
       "        vertical-align: top;\n",
       "    }\n",
       "\n",
       "    .dataframe thead th {\n",
       "        text-align: right;\n",
       "    }\n",
       "</style>\n",
       "<table border=\"1\" class=\"dataframe\">\n",
       "  <thead>\n",
       "    <tr style=\"text-align: right;\">\n",
       "      <th></th>\n",
       "      <th>description</th>\n",
       "      <th>points</th>\n",
       "    </tr>\n",
       "  </thead>\n",
       "  <tbody>\n",
       "    <tr>\n",
       "      <th>0</th>\n",
       "      <td>Translucent in color, silky in the mouth, this...</td>\n",
       "      <td>85</td>\n",
       "    </tr>\n",
       "    <tr>\n",
       "      <th>1</th>\n",
       "      <td>On the palate, this wine is rich and complex, ...</td>\n",
       "      <td>92</td>\n",
       "    </tr>\n",
       "    <tr>\n",
       "      <th>2</th>\n",
       "      <td>The producer blends 57% Chardonnay from the Ma...</td>\n",
       "      <td>92</td>\n",
       "    </tr>\n",
       "    <tr>\n",
       "      <th>3</th>\n",
       "      <td>Pure Baga in all its glory, packed with dry an...</td>\n",
       "      <td>93</td>\n",
       "    </tr>\n",
       "    <tr>\n",
       "      <th>4</th>\n",
       "      <td>Think of Subsídio as a contribution rather tha...</td>\n",
       "      <td>89</td>\n",
       "    </tr>\n",
       "    <tr>\n",
       "      <th>...</th>\n",
       "      <td>...</td>\n",
       "      <td>...</td>\n",
       "    </tr>\n",
       "    <tr>\n",
       "      <th>9995</th>\n",
       "      <td>From the folks at Merryvale, this is a blend o...</td>\n",
       "      <td>92</td>\n",
       "    </tr>\n",
       "    <tr>\n",
       "      <th>9996</th>\n",
       "      <td>An easy, versatile food wine or cocktail sippe...</td>\n",
       "      <td>84</td>\n",
       "    </tr>\n",
       "    <tr>\n",
       "      <th>9997</th>\n",
       "      <td>Black-fruit aromas blend nicely into chocolate...</td>\n",
       "      <td>93</td>\n",
       "    </tr>\n",
       "    <tr>\n",
       "      <th>9998</th>\n",
       "      <td>This combines 61% Cabernet Sauvignon, 14% Syra...</td>\n",
       "      <td>90</td>\n",
       "    </tr>\n",
       "    <tr>\n",
       "      <th>9999</th>\n",
       "      <td>This is Ferreira's top vineyard that also prod...</td>\n",
       "      <td>94</td>\n",
       "    </tr>\n",
       "  </tbody>\n",
       "</table>\n",
       "<p>10000 rows × 2 columns</p>\n",
       "</div>"
      ]
     },
     "execution_count": 3,
     "metadata": {},
     "output_type": "execute_result"
    }
   ],
   "execution_count": 3
  },
  {
   "cell_type": "code",
   "source": "df['points'].plot.hist()",
   "metadata": {
    "id": "DFY6TKhGKOY4",
    "ExecuteTime": {
     "end_time": "2025-04-04T20:50:54.321148Z",
     "start_time": "2025-04-04T20:50:54.176353Z"
    }
   },
   "outputs": [
    {
     "data": {
      "text/plain": [
       "<Axes: ylabel='Frequency'>"
      ]
     },
     "execution_count": 4,
     "metadata": {},
     "output_type": "execute_result"
    },
    {
     "data": {
      "text/plain": [
       "<Figure size 640x480 with 1 Axes>"
      ],
      "image/png": "[encoded data removed]"
     },
     "metadata": {},
     "output_type": "display_data"
    }
   ],
   "execution_count": 4
  },
  {
   "metadata": {
    "ExecuteTime": {
     "end_time": "2025-04-04T20:51:27.842779Z",
     "start_time": "2025-04-04T20:51:27.839402Z"
    }
   },
   "cell_type": "code",
   "source": [
    "def exceptional_col(num):\n",
    "    return 1 if num>=90 else 0"
   ],
   "outputs": [],
   "execution_count": 6
  },
  {
   "cell_type": "code",
   "source": [
    "df['label'] = df['points'].apply(exceptional_col)\n",
    "df"
   ],
   "metadata": {
    "id": "Duz8bzcRKSC7",
    "ExecuteTime": {
     "end_time": "2025-04-04T20:51:51.850771Z",
     "start_time": "2025-04-04T20:51:51.838957Z"
    }
   },
   "outputs": [
    {
     "data": {
      "text/plain": [
       "                                            description  points  label\n",
       "0     Translucent in color, silky in the mouth, this...      85      0\n",
       "1     On the palate, this wine is rich and complex, ...      92      1\n",
       "2     The producer blends 57% Chardonnay from the Ma...      92      1\n",
       "3     Pure Baga in all its glory, packed with dry an...      93      1\n",
       "4     Think of Subsídio as a contribution rather tha...      89      0\n",
       "...                                                 ...     ...    ...\n",
       "9995  From the folks at Merryvale, this is a blend o...      92      1\n",
       "9996  An easy, versatile food wine or cocktail sippe...      84      0\n",
       "9997  Black-fruit aromas blend nicely into chocolate...      93      1\n",
       "9998  This combines 61% Cabernet Sauvignon, 14% Syra...      90      1\n",
       "9999  This is Ferreira's top vineyard that also prod...      94      1\n",
       "\n",
       "[10000 rows x 3 columns]"
      ],
      "text/html": [
       "<div>\n",
       "<style scoped>\n",
       "    .dataframe tbody tr th:only-of-type {\n",
       "        vertical-align: middle;\n",
       "    }\n",
       "\n",
       "    .dataframe tbody tr th {\n",
       "        vertical-align: top;\n",
       "    }\n",
       "\n",
       "    .dataframe thead th {\n",
       "        text-align: right;\n",
       "    }\n",
       "</style>\n",
       "<table border=\"1\" class=\"dataframe\">\n",
       "  <thead>\n",
       "    <tr style=\"text-align: right;\">\n",
       "      <th></th>\n",
       "      <th>description</th>\n",
       "      <th>points</th>\n",
       "      <th>label</th>\n",
       "    </tr>\n",
       "  </thead>\n",
       "  <tbody>\n",
       "    <tr>\n",
       "      <th>0</th>\n",
       "      <td>Translucent in color, silky in the mouth, this...</td>\n",
       "      <td>85</td>\n",
       "      <td>0</td>\n",
       "    </tr>\n",
       "    <tr>\n",
       "      <th>1</th>\n",
       "      <td>On the palate, this wine is rich and complex, ...</td>\n",
       "      <td>92</td>\n",
       "      <td>1</td>\n",
       "    </tr>\n",
       "    <tr>\n",
       "      <th>2</th>\n",
       "      <td>The producer blends 57% Chardonnay from the Ma...</td>\n",
       "      <td>92</td>\n",
       "      <td>1</td>\n",
       "    </tr>\n",
       "    <tr>\n",
       "      <th>3</th>\n",
       "      <td>Pure Baga in all its glory, packed with dry an...</td>\n",
       "      <td>93</td>\n",
       "      <td>1</td>\n",
       "    </tr>\n",
       "    <tr>\n",
       "      <th>4</th>\n",
       "      <td>Think of Subsídio as a contribution rather tha...</td>\n",
       "      <td>89</td>\n",
       "      <td>0</td>\n",
       "    </tr>\n",
       "    <tr>\n",
       "      <th>...</th>\n",
       "      <td>...</td>\n",
       "      <td>...</td>\n",
       "      <td>...</td>\n",
       "    </tr>\n",
       "    <tr>\n",
       "      <th>9995</th>\n",
       "      <td>From the folks at Merryvale, this is a blend o...</td>\n",
       "      <td>92</td>\n",
       "      <td>1</td>\n",
       "    </tr>\n",
       "    <tr>\n",
       "      <th>9996</th>\n",
       "      <td>An easy, versatile food wine or cocktail sippe...</td>\n",
       "      <td>84</td>\n",
       "      <td>0</td>\n",
       "    </tr>\n",
       "    <tr>\n",
       "      <th>9997</th>\n",
       "      <td>Black-fruit aromas blend nicely into chocolate...</td>\n",
       "      <td>93</td>\n",
       "      <td>1</td>\n",
       "    </tr>\n",
       "    <tr>\n",
       "      <th>9998</th>\n",
       "      <td>This combines 61% Cabernet Sauvignon, 14% Syra...</td>\n",
       "      <td>90</td>\n",
       "      <td>1</td>\n",
       "    </tr>\n",
       "    <tr>\n",
       "      <th>9999</th>\n",
       "      <td>This is Ferreira's top vineyard that also prod...</td>\n",
       "      <td>94</td>\n",
       "      <td>1</td>\n",
       "    </tr>\n",
       "  </tbody>\n",
       "</table>\n",
       "<p>10000 rows × 3 columns</p>\n",
       "</div>"
      ]
     },
     "execution_count": 7,
     "metadata": {},
     "output_type": "execute_result"
    }
   ],
   "execution_count": 7
  },
  {
   "metadata": {
    "ExecuteTime": {
     "end_time": "2025-04-04T20:51:54.911562Z",
     "start_time": "2025-04-04T20:51:54.907114Z"
    }
   },
   "cell_type": "code",
   "source": "df = df.drop(['points'], axis=1)",
   "outputs": [],
   "execution_count": 8
  },
  {
   "metadata": {
    "ExecuteTime": {
     "end_time": "2025-04-04T20:51:57.500154Z",
     "start_time": "2025-04-04T20:51:57.479100Z"
    }
   },
   "cell_type": "code",
   "source": "dataset[\"train\"] = Dataset.from_pandas(df)",
   "outputs": [],
   "execution_count": 9
  },
  {
   "cell_type": "code",
   "source": "training_df,test_df = dataset['train'].train_test_split(test_size=0.2).values()",
   "metadata": {
    "id": "PjGGGMxebeoB",
    "ExecuteTime": {
     "end_time": "2025-04-04T20:52:13.136788Z",
     "start_time": "2025-04-04T20:52:13.121264Z"
    }
   },
   "outputs": [],
   "execution_count": 10
  },
  {
   "cell_type": "code",
   "source": "training_df",
   "metadata": {
    "id": "uiNlRpKHU4MC",
    "ExecuteTime": {
     "end_time": "2025-04-04T20:52:16.021956Z",
     "start_time": "2025-04-04T20:52:16.018065Z"
    }
   },
   "outputs": [
    {
     "data": {
      "text/plain": [
       "Dataset({\n",
       "    features: ['description', 'label'],\n",
       "    num_rows: 8000\n",
       "})"
      ]
     },
     "execution_count": 11,
     "metadata": {},
     "output_type": "execute_result"
    }
   ],
   "execution_count": 11
  },
  {
   "metadata": {
    "ExecuteTime": {
     "end_time": "2025-04-04T20:52:19.501734Z",
     "start_time": "2025-04-04T20:52:19.496017Z"
    }
   },
   "cell_type": "code",
   "source": "test_df",
   "outputs": [
    {
     "data": {
      "text/plain": [
       "Dataset({\n",
       "    features: ['description', 'label'],\n",
       "    num_rows: 2000\n",
       "})"
      ]
     },
     "execution_count": 12,
     "metadata": {},
     "output_type": "execute_result"
    }
   ],
   "execution_count": 12
  },
  {
   "metadata": {
    "ExecuteTime": {
     "end_time": "2025-04-04T20:52:25.954975Z",
     "start_time": "2025-04-04T20:52:25.952113Z"
    }
   },
   "cell_type": "code",
   "source": "dataset['train'] = training_df",
   "outputs": [],
   "execution_count": 13
  },
  {
   "cell_type": "code",
   "source": "dataset['test'] = test_df",
   "metadata": {
    "id": "66wnuiO8VAMC",
    "ExecuteTime": {
     "end_time": "2025-04-04T20:52:34.307992Z",
     "start_time": "2025-04-04T20:52:34.305504Z"
    }
   },
   "outputs": [],
   "execution_count": 14
  },
  {
   "cell_type": "code",
   "source": "training_df,validation_df = dataset['train'].train_test_split(test_size=0.1).values()",
   "metadata": {
    "id": "i5pE2lYrU_ir",
    "ExecuteTime": {
     "end_time": "2025-04-04T20:52:42.823242Z",
     "start_time": "2025-04-04T20:52:42.805693Z"
    }
   },
   "outputs": [],
   "execution_count": 15
  },
  {
   "metadata": {
    "ExecuteTime": {
     "end_time": "2025-04-04T20:52:44.264450Z",
     "start_time": "2025-04-04T20:52:44.261167Z"
    }
   },
   "cell_type": "code",
   "source": "dataset['train'] = training_df",
   "outputs": [],
   "execution_count": 16
  },
  {
   "metadata": {
    "ExecuteTime": {
     "end_time": "2025-04-04T20:52:45.581629Z",
     "start_time": "2025-04-04T20:52:45.577928Z"
    }
   },
   "cell_type": "code",
   "source": "dataset['val'] = validation_df",
   "outputs": [],
   "execution_count": 17
  },
  {
   "cell_type": "code",
   "source": "dataset",
   "metadata": {
    "id": "azttlc3qVjYY",
    "ExecuteTime": {
     "end_time": "2025-04-04T20:52:54.281882Z",
     "start_time": "2025-04-04T20:52:54.277372Z"
    }
   },
   "outputs": [
    {
     "data": {
      "text/plain": [
       "DatasetDict({\n",
       "    train: Dataset({\n",
       "        features: ['description', 'label'],\n",
       "        num_rows: 7200\n",
       "    })\n",
       "    test: Dataset({\n",
       "        features: ['description', 'label'],\n",
       "        num_rows: 2000\n",
       "    })\n",
       "    val: Dataset({\n",
       "        features: ['description', 'label'],\n",
       "        num_rows: 800\n",
       "    })\n",
       "})"
      ]
     },
     "execution_count": 18,
     "metadata": {},
     "output_type": "execute_result"
    }
   ],
   "execution_count": 18
  },
  {
   "cell_type": "code",
   "source": [
    "token = AutoTokenizer.from_pretrained(\"google-bert/bert-base-cased\")\n",
    "dataset = dataset.map(lambda x: token(x['description'],truncation=True,padding=True,max_length=20),batched=True)"
   ],
   "metadata": {
    "id": "esakOh8iWYEN",
    "ExecuteTime": {
     "end_time": "2025-04-04T20:53:10.265386Z",
     "start_time": "2025-04-04T20:53:08.985775Z"
    }
   },
   "outputs": [
    {
     "data": {
      "text/plain": [
       "Map:   0%|          | 0/7200 [00:00<?, ? examples/s]"
      ],
      "application/vnd.jupyter.widget-view+json": {
       "version_major": 2,
       "version_minor": 0,
       "model_id": "7da50319d12c483ba6ed3a0cd547ca1c"
      }
     },
     "metadata": {},
     "output_type": "display_data"
    },
    {
     "data": {
      "text/plain": [
       "Map:   0%|          | 0/2000 [00:00<?, ? examples/s]"
      ],
      "application/vnd.jupyter.widget-view+json": {
       "version_major": 2,
       "version_minor": 0,
       "model_id": "d41227bd34fd46c7a6a319451dc86525"
      }
     },
     "metadata": {},
     "output_type": "display_data"
    },
    {
     "data": {
      "text/plain": [
       "Map:   0%|          | 0/800 [00:00<?, ? examples/s]"
      ],
      "application/vnd.jupyter.widget-view+json": {
       "version_major": 2,
       "version_minor": 0,
       "model_id": "857067bf98794fe284622088882ff64a"
      }
     },
     "metadata": {},
     "output_type": "display_data"
    }
   ],
   "execution_count": 19
  },
  {
   "cell_type": "code",
   "source": "model = AutoModelForSequenceClassification.from_pretrained(\"google-bert/bert-base-cased\",num_labels=2)",
   "metadata": {
    "id": "IXFIrQthbnkb",
    "ExecuteTime": {
     "end_time": "2025-04-04T20:53:25.550630Z",
     "start_time": "2025-04-04T20:53:25.006330Z"
    }
   },
   "outputs": [
    {
     "name": "stderr",
     "output_type": "stream",
     "text": [
      "Some weights of BertForSequenceClassification were not initialized from the model checkpoint at google-bert/bert-base-cased and are newly initialized: ['classifier.bias', 'classifier.weight']\n",
      "You should probably TRAIN this model on a down-stream task to be able to use it for predictions and inference.\n"
     ]
    }
   ],
   "execution_count": 20
  },
  {
   "cell_type": "code",
   "source": [
    "args = TrainingArguments(\n",
    "    output_dir=\"wine\",\n",
    "    eval_strategy= \"epoch\",\n",
    "    num_train_epochs=3,\n",
    "    per_device_train_batch_size=8,\n",
    "    per_device_eval_batch_size=8,\n",
    "    learning_rate=2e-5,\n",
    "    metric_for_best_model=\"f1\"\n",
    ")"
   ],
   "metadata": {
    "id": "p3sVs-L1YJHu",
    "ExecuteTime": {
     "end_time": "2025-04-04T20:53:39.239076Z",
     "start_time": "2025-04-04T20:53:39.226987Z"
    }
   },
   "outputs": [],
   "execution_count": 21
  },
  {
   "metadata": {
    "ExecuteTime": {
     "end_time": "2025-04-04T20:53:45.993863Z",
     "start_time": "2025-04-04T20:53:45.989128Z"
    }
   },
   "cell_type": "code",
   "source": [
    "def compute_metrics(eval_pred):\n",
    "    logits,labels = eval_pred\n",
    "    pred = np.argmax(logits,axis=-1)\n",
    "    f1 = f1_score(labels, pred, average='weighted')\n",
    "    return {\"f1\": f1}"
   ],
   "outputs": [],
   "execution_count": 22
  },
  {
   "cell_type": "code",
   "source": [
    "trainer = Trainer(\n",
    "    model=model,\n",
    "    args=args,\n",
    "    compute_metrics=compute_metrics,\n",
    "    train_dataset=dataset['train'],\n",
    "    eval_dataset=dataset['val']\n",
    ")"
   ],
   "metadata": {
    "id": "O7cyG3PhYJ_M",
    "ExecuteTime": {
     "end_time": "2025-04-04T20:53:55.617189Z",
     "start_time": "2025-04-04T20:53:55.476223Z"
    }
   },
   "outputs": [],
   "execution_count": 23
  },
  {
   "cell_type": "code",
   "source": "trainer.train()",
   "metadata": {
    "id": "U9Dz0P11Ykeh",
    "ExecuteTime": {
     "end_time": "2025-04-04T21:26:55.235103Z",
     "start_time": "2025-04-04T20:54:02.910606Z"
    }
   },
   "outputs": [
    {
     "data": {
      "text/plain": [
       "<IPython.core.display.HTML object>"
      ],
      "text/html": [
       "\n",
       "    <div>\n",
       "      \n",
       "      <progress value='2700' max='2700' style='width:300px; height:20px; vertical-align: middle;'></progress>\n",
       "      [2700/2700 32:49, Epoch 3/3]\n",
       "    </div>\n",
       "    <table border=\"1\" class=\"dataframe\">\n",
       "  <thead>\n",
       " <tr style=\"text-align: left;\">\n",
       "      <th>Epoch</th>\n",
       "      <th>Training Loss</th>\n",
       "      <th>Validation Loss</th>\n",
       "      <th>F1</th>\n",
       "    </tr>\n",
       "  </thead>\n",
       "  <tbody>\n",
       "    <tr>\n",
       "      <td>1</td>\n",
       "      <td>0.651500</td>\n",
       "      <td>0.583236</td>\n",
       "      <td>0.695000</td>\n",
       "    </tr>\n",
       "    <tr>\n",
       "      <td>2</td>\n",
       "      <td>0.503000</td>\n",
       "      <td>0.646790</td>\n",
       "      <td>0.690971</td>\n",
       "    </tr>\n",
       "    <tr>\n",
       "      <td>3</td>\n",
       "      <td>0.355100</td>\n",
       "      <td>0.790278</td>\n",
       "      <td>0.701337</td>\n",
       "    </tr>\n",
       "  </tbody>\n",
       "</table><p>"
      ]
     },
     "metadata": {},
     "output_type": "display_data"
    },
    {
     "data": {
      "text/plain": [
       "TrainOutput(global_step=2700, training_loss=0.48982373272931135, metrics={'train_runtime': 1972.1363, 'train_samples_per_second': 10.953, 'train_steps_per_second': 1.369, 'total_flos': 221999952960000.0, 'train_loss': 0.48982373272931135, 'epoch': 3.0})"
      ]
     },
     "execution_count": 24,
     "metadata": {},
     "output_type": "execute_result"
    }
   ],
   "execution_count": 24
  },
  {
   "cell_type": "code",
   "source": "preds = trainer.predict(dataset['test'])",
   "metadata": {
    "id": "EvMfVum6b_9b",
    "ExecuteTime": {
     "end_time": "2025-04-04T21:27:38.029724Z",
     "start_time": "2025-04-04T21:27:10.921985Z"
    }
   },
   "outputs": [
    {
     "data": {
      "text/plain": [
       "<IPython.core.display.HTML object>"
      ],
      "text/html": []
     },
     "metadata": {},
     "output_type": "display_data"
    }
   ],
   "execution_count": 25
  },
  {
   "metadata": {
    "ExecuteTime": {
     "end_time": "2025-04-04T21:27:39.916885Z",
     "start_time": "2025-04-04T21:27:39.913557Z"
    }
   },
   "cell_type": "code",
   "source": "preds = np.argmax(preds.predictions,axis=-1)",
   "outputs": [],
   "execution_count": 26
  },
  {
   "cell_type": "code",
   "source": "print(classification_report(dataset['test']['label'],preds))",
   "metadata": {
    "id": "V4axpktycQhp",
    "ExecuteTime": {
     "end_time": "2025-04-04T21:27:41.259254Z",
     "start_time": "2025-04-04T21:27:41.246902Z"
    }
   },
   "outputs": [
    {
     "name": "stdout",
     "output_type": "stream",
     "text": [
      "              precision    recall  f1-score   support\n",
      "\n",
      "           0       0.71      0.68      0.70      1013\n",
      "           1       0.69      0.72      0.70       987\n",
      "\n",
      "    accuracy                           0.70      2000\n",
      "   macro avg       0.70      0.70      0.70      2000\n",
      "weighted avg       0.70      0.70      0.70      2000\n",
      "\n"
     ]
    }
   ],
   "execution_count": 27
  }
 ]
}
